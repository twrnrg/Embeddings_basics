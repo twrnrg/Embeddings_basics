{
 "cells": [
  {
   "cell_type": "code",
   "execution_count": 21,
   "metadata": {
    "ExecuteTime": {
     "end_time": "2019-07-12T18:41:54.098782Z",
     "start_time": "2019-07-12T18:41:54.088951Z"
    }
   },
   "outputs": [],
   "source": [
    "import os\n",
    "from keras.utils import get_file\n",
    "import gensim\n",
    "import subprocess\n",
    "import numpy as np\n",
    "import matplotlib.pyplot as plt\n",
    "\n",
    "\n",
    "from sklearn.manifold import TSNE\n",
    "import json\n",
    "from collections import Counter\n",
    "from itertools import chain"
   ]
  },
  {
   "cell_type": "code",
   "execution_count": 2,
   "metadata": {
    "ExecuteTime": {
     "end_time": "2019-07-12T17:23:16.568729Z",
     "start_time": "2019-07-12T17:20:59.349451Z"
    },
    "scrolled": true
   },
   "outputs": [
    {
     "name": "stderr",
     "output_type": "stream",
     "text": [
      "/Applications/anaconda3/lib/python3.7/site-packages/smart_open/smart_open_lib.py:398: UserWarning: This function is deprecated, use smart_open.open instead. See the migration notes for details: https://github.com/RaRe-Technologies/smart_open/blob/master/README.rst#migrating-to-the-new-open-function\n",
      "  'See the migration notes for details: %s' % _MIGRATION_NOTES_URL\n"
     ]
    }
   ],
   "source": [
    "model_path = \"../GoogleNews-vectors-negative300.bin.gz\"\n",
    "model = gensim.models.KeyedVectors.load_word2vec_format(model_path, binary=True)"
   ]
  },
  {
   "cell_type": "markdown",
   "metadata": {
    "ExecuteTime": {
     "end_time": "2019-07-12T17:47:04.812771Z",
     "start_time": "2019-07-12T17:47:00.016283Z"
    }
   },
   "source": [
    "##### model.most_similar(positive=['king'])"
   ]
  },
  {
   "cell_type": "code",
   "execution_count": 7,
   "metadata": {
    "ExecuteTime": {
     "end_time": "2019-07-12T18:05:58.234625Z",
     "start_time": "2019-07-12T18:05:57.980553Z"
    }
   },
   "outputs": [
    {
     "data": {
      "text/plain": [
       "'queen'"
      ]
     },
     "execution_count": 7,
     "metadata": {},
     "output_type": "execute_result"
    }
   ],
   "source": [
    "def A_is_to_B_as_C_is_to(a, b, c, topn=1):\n",
    "    a,b,c = map(lambda x: x if type(x) == list else [x], (a, b, c))\n",
    "    res = model.most_similar(positive=b +c, negative=a, topn=topn)\n",
    "#     import pdb; pdb.set_trace()\n",
    "    if len(res):\n",
    "        if topn == 1:\n",
    "            return res[0][0]\n",
    "        return [x[0] for x in res]\n",
    "    return None\n",
    "\n",
    "A_is_to_B_as_C_is_to('man', 'woman', 'king')"
   ]
  },
  {
   "cell_type": "code",
   "execution_count": 8,
   "metadata": {
    "ExecuteTime": {
     "end_time": "2019-07-12T18:06:02.329927Z",
     "start_time": "2019-07-12T18:06:00.826032Z"
    }
   },
   "outputs": [
    {
     "name": "stdout",
     "output_type": "stream",
     "text": [
      "Rome is the capital of Italy\n",
      "Paris is the capital of France\n",
      "Delhi is the capital of India\n",
      "Beijing is the capital of China\n",
      "Islamabad is the capital of Pakistan\n"
     ]
    }
   ],
   "source": [
    "for country in \"Italy\", \"France\", \"India\", \"China\", \"Pakistan\":\n",
    "    print('%s is the capital of %s' %\n",
    "         (A_is_to_B_as_C_is_to('Germany', 'Berlin', country), country))"
   ]
  },
  {
   "cell_type": "code",
   "execution_count": 9,
   "metadata": {
    "ExecuteTime": {
     "end_time": "2019-07-12T18:09:24.687328Z",
     "start_time": "2019-07-12T18:09:21.554254Z"
    }
   },
   "outputs": [
    {
     "name": "stdout",
     "output_type": "stream",
     "text": [
      "Google -> personalized_homepage, app, Gmail, Google_Instant_Previews\n",
      "IBM -> DB2, WebSphere_Portal, Tamino_XML_Server, CloudBurst\n",
      "Boeing -> Dreamliner, airframe, aircraft, Dreamliner_jets\n",
      "Microsoft -> Windows_Mobile, SyncMate, Windows, software\n",
      "Nokia -> Nokia_N##, handset, Motorola_C###, handsets\n",
      "Samsung -> MM_A###, handset, Samsung_SCH_B###, Nokia_N##\n"
     ]
    }
   ],
   "source": [
    "for company in 'Google', 'IBM', 'Boeing', 'Microsoft', 'Nokia', 'Samsung':\n",
    "    products = A_is_to_B_as_C_is_to(['Starbucks', 'Apple'], ['Starbucks_coffee', 'iPhone'], company, topn=4)\n",
    "    print('%s -> %s' % (company, ', '.join(products))) "
   ]
  },
  {
   "cell_type": "code",
   "execution_count": 12,
   "metadata": {
    "ExecuteTime": {
     "end_time": "2019-07-12T18:21:35.754532Z",
     "start_time": "2019-07-12T18:21:35.727897Z"
    }
   },
   "outputs": [],
   "source": [
    "beverages = ['espresso', 'beer', 'vodka', 'wine', 'cola', 'tea']\n",
    "countries = ['Italy', 'Germany', 'Russia', 'France', 'USA', 'India']\n",
    "sports = ['soccer', 'handball', 'hockey', 'cycling', 'basketball', 'cricket', 'kabaddi']\n",
    "\n",
    "items = beverages + countries + sports"
   ]
  },
  {
   "cell_type": "code",
   "execution_count": 15,
   "metadata": {
    "ExecuteTime": {
     "end_time": "2019-07-12T18:23:39.918738Z",
     "start_time": "2019-07-12T18:23:39.865068Z"
    }
   },
   "outputs": [
    {
     "data": {
      "text/plain": [
       "19"
      ]
     },
     "execution_count": 15,
     "metadata": {},
     "output_type": "execute_result"
    }
   ],
   "source": [
    "item_vectors = [(item, model[item])\n",
    "                for item in items\n",
    "                if item in model]\n",
    "len(item_vectors)"
   ]
  },
  {
   "cell_type": "markdown",
   "metadata": {},
   "source": [
    "# TNSE for Clustering"
   ]
  },
  {
   "cell_type": "code",
   "execution_count": 18,
   "metadata": {
    "ExecuteTime": {
     "end_time": "2019-07-12T18:38:09.471118Z",
     "start_time": "2019-07-12T18:32:17.502672Z"
    },
    "scrolled": true
   },
   "outputs": [
    {
     "name": "stdout",
     "output_type": "stream",
     "text": [
      "--Return--\n",
      "> <ipython-input-18-72da5575e13c>(3)<module>()->None\n",
      "-> import pdb; pdb.set_trace()\n",
      "(Pdb) vectors\n",
      "array([[-0.19628906, -0.38476562, -0.15820312, ...,  0.09130859,\n",
      "         0.14355469,  0.39648438],\n",
      "       [-0.08740234, -0.13378906, -0.04492188, ..., -0.07421875,\n",
      "         0.20410156, -0.12011719],\n",
      "       [-0.05834961, -0.15429688, -0.04882812, ...,  0.21972656,\n",
      "         0.14453125,  0.04614258],\n",
      "       ...,\n",
      "       [-0.00854492,  0.08447266,  0.21289062, ...,  0.22167969,\n",
      "         0.04663086,  0.25976562],\n",
      "       [-0.3671875 , -0.12158203,  0.28515625, ...,  0.24902344,\n",
      "        -0.14257812,  0.04150391],\n",
      "       [-0.37890625,  0.14453125,  0.57421875, ...,  0.23144531,\n",
      "        -0.29882812,  0.27734375]], dtype=float32)\n",
      "(Pdb) lengths\n",
      "array([3.586366 , 3.135164 , 3.3712635, 3.2634988, 3.0897832, 3.3310723,\n",
      "       2.797517 , 2.658717 , 2.896993 , 2.716706 , 2.4355297, 2.6760032,\n",
      "       3.0090933, 3.7031436, 3.3725905, 3.1958177, 3.077873 , 3.6725526,\n",
      "       4.3611364], dtype=float32)\n",
      "(Pdb) len(vectors)\n",
      "19\n",
      "(Pdb) len(vectors[0])\n",
      "300\n",
      "(Pdb) len(length)\n",
      "*** NameError: name 'length' is not defined\n",
      "(Pdb) len(lengths)\n",
      "19\n",
      "(Pdb) vectors\n",
      "array([[-0.19628906, -0.38476562, -0.15820312, ...,  0.09130859,\n",
      "         0.14355469,  0.39648438],\n",
      "       [-0.08740234, -0.13378906, -0.04492188, ..., -0.07421875,\n",
      "         0.20410156, -0.12011719],\n",
      "       [-0.05834961, -0.15429688, -0.04882812, ...,  0.21972656,\n",
      "         0.14453125,  0.04614258],\n",
      "       ...,\n",
      "       [-0.00854492,  0.08447266,  0.21289062, ...,  0.22167969,\n",
      "         0.04663086,  0.25976562],\n",
      "       [-0.3671875 , -0.12158203,  0.28515625, ...,  0.24902344,\n",
      "        -0.14257812,  0.04150391],\n",
      "       [-0.37890625,  0.14453125,  0.57421875, ...,  0.23144531,\n",
      "        -0.29882812,  0.27734375]], dtype=float32)\n",
      "(Pdb) vectors.T\n",
      "array([[-0.19628906, -0.08740234, -0.05834961, ..., -0.00854492,\n",
      "        -0.3671875 , -0.37890625],\n",
      "       [-0.38476562, -0.13378906, -0.15429688, ...,  0.08447266,\n",
      "        -0.12158203,  0.14453125],\n",
      "       [-0.15820312, -0.04492188, -0.04882812, ...,  0.21289062,\n",
      "         0.28515625,  0.57421875],\n",
      "       ...,\n",
      "       [ 0.09130859, -0.07421875,  0.21972656, ...,  0.22167969,\n",
      "         0.24902344,  0.23144531],\n",
      "       [ 0.14355469,  0.20410156,  0.14453125, ...,  0.04663086,\n",
      "        -0.14257812, -0.29882812],\n",
      "       [ 0.39648438, -0.12011719,  0.04614258, ...,  0.25976562,\n",
      "         0.04150391,  0.27734375]], dtype=float32)\n",
      "(Pdb) len(vectors[0].T)\n",
      "300\n",
      "(Pdb) vectors[0].t\n",
      "*** AttributeError: 'numpy.ndarray' object has no attribute 't'\n",
      "(Pdb) vectors[0].T\n",
      "array([-0.19628906, -0.38476562, -0.15820312,  0.578125  ,  0.0022583 ,\n",
      "        0.13476562,  0.265625  , -0.27539062,  0.16699219,  0.62890625,\n",
      "       -0.02099609, -0.06738281,  0.3125    , -0.22070312,  0.25976562,\n",
      "        0.171875  , -0.27539062,  0.13378906,  0.2734375 , -0.18554688,\n",
      "       -0.25390625,  0.15820312,  0.05249023, -0.49804688, -0.1484375 ,\n",
      "        0.13378906, -0.25390625,  0.35351562, -0.14550781, -0.07519531,\n",
      "        0.09765625, -0.05200195,  0.08691406,  0.09277344, -0.24511719,\n",
      "       -0.28710938,  0.09033203, -0.19726562,  0.03442383,  0.19433594,\n",
      "        0.12890625, -0.09814453,  0.02355957,  0.07861328, -0.08154297,\n",
      "       -0.06347656, -0.31640625, -0.20605469,  0.27929688,  0.21679688,\n",
      "       -0.11425781,  0.42382812, -0.26367188, -0.20898438, -0.05419922,\n",
      "        0.10644531,  0.23925781,  0.265625  , -0.4609375 , -0.33789062,\n",
      "       -0.20898438, -0.13378906, -0.16699219, -0.01538086,  0.20019531,\n",
      "       -0.18457031, -0.31835938, -0.4375    ,  0.015625  ,  0.06030273,\n",
      "        0.1875    ,  0.03955078,  0.04223633,  0.06933594, -0.36132812,\n",
      "        0.13574219, -0.03271484, -0.09277344,  0.05200195, -0.20800781,\n",
      "       -0.0456543 ,  0.12792969, -0.10107422,  0.04003906, -0.0703125 ,\n",
      "        0.14257812,  0.33398438,  0.45507812,  0.22265625, -0.0703125 ,\n",
      "       -0.234375  ,  0.05639648,  0.13769531,  0.08789062, -0.16992188,\n",
      "       -0.28125   , -0.18652344, -0.12207031,  0.359375  , -0.21875   ,\n",
      "        0.07275391,  0.0324707 , -0.12890625,  0.30273438,  0.22851562,\n",
      "       -0.05615234,  0.16210938,  0.07568359,  0.10986328,  0.03149414,\n",
      "       -0.06738281, -0.16992188, -0.26171875, -0.24414062, -0.24804688,\n",
      "       -0.15527344, -0.17773438, -0.01013184, -0.05664062, -0.22460938,\n",
      "        0.02160645,  0.00506592, -0.00415039,  0.13574219,  0.22265625,\n",
      "        0.10595703, -0.40625   , -0.03015137,  0.05371094,  0.27539062,\n",
      "       -0.19042969,  0.03149414, -0.04321289, -0.03295898, -0.00817871,\n",
      "        0.17089844,  0.11083984,  0.09130859,  0.11621094, -0.11035156,\n",
      "        0.13574219, -0.37109375, -0.453125  , -0.01708984, -0.06933594,\n",
      "       -0.18847656,  0.15917969,  0.1015625 , -0.11865234,  0.22167969,\n",
      "        0.04101562,  0.19726562, -0.03979492, -0.12695312,  0.45117188,\n",
      "        0.10107422, -0.07324219,  0.01489258, -0.45898438,  0.25195312,\n",
      "       -0.125     , -0.24804688, -0.04418945,  0.11181641,  0.16601562,\n",
      "       -0.03442383,  0.34375   , -0.15429688,  0.12109375, -0.203125  ,\n",
      "       -0.06298828, -0.04345703, -0.17480469, -0.21386719, -0.43554688,\n",
      "        0.046875  , -0.07714844, -0.24707031, -0.17480469,  0.01043701,\n",
      "        0.0625    , -0.07861328, -0.26757812, -0.31640625,  0.38671875,\n",
      "       -0.15234375,  0.01074219,  0.18359375, -0.10986328, -0.16796875,\n",
      "        0.06933594,  0.21191406,  0.02905273,  0.09863281,  0.10058594,\n",
      "        0.22167969,  0.18652344, -0.16699219, -0.08544922,  0.14746094,\n",
      "       -0.00454712,  0.10546875,  0.1171875 , -0.07666016,  0.30273438,\n",
      "       -0.15625   , -0.11328125,  0.02441406, -0.19726562, -0.359375  ,\n",
      "       -0.625     ,  0.37695312, -0.10107422,  0.29296875, -0.00361633,\n",
      "       -0.04321289, -0.18554688,  0.06176758, -0.16699219,  0.203125  ,\n",
      "        0.14941406,  0.12988281,  0.03039551, -0.21582031,  0.37890625,\n",
      "        0.21191406, -0.23144531,  0.18554688, -0.03979492,  0.03857422,\n",
      "       -0.03442383,  0.03295898, -0.33398438,  0.28125   ,  0.26953125,\n",
      "       -0.10107422,  0.17773438,  0.28320312,  0.09326172, -0.0612793 ,\n",
      "        0.29296875, -0.03686523, -0.01385498,  0.14941406,  0.17578125,\n",
      "       -0.03295898, -0.19042969,  0.14550781,  0.0168457 , -0.24902344,\n",
      "       -0.10449219,  0.32226562,  0.47851562, -0.00582886,  0.01409912,\n",
      "       -0.19921875,  0.20800781, -0.38867188, -0.06054688,  0.09423828,\n",
      "        0.05932617,  0.36328125, -0.22460938,  0.23925781,  0.0625    ,\n",
      "       -0.10253906,  0.13085938, -0.02893066, -0.5390625 , -0.31835938,\n",
      "        0.06738281,  0.02807617, -0.20019531,  0.16503906,  0.02307129,\n",
      "        0.31835938, -0.12255859, -0.20019531,  0.15332031,  0.2734375 ,\n",
      "       -0.12304688, -0.18164062,  0.32226562,  0.28710938, -0.30273438,\n",
      "        0.05444336,  0.03637695, -0.11328125, -0.01696777,  0.29492188,\n",
      "        0.08398438, -0.203125  , -0.22558594, -0.03393555, -0.03466797,\n",
      "        0.02038574,  0.10986328,  0.09130859,  0.14355469,  0.39648438],\n",
      "      dtype=float32)\n",
      "(Pdb) c\n",
      "[t-SNE] Computing 18 nearest neighbors...\n",
      "[t-SNE] Indexed 19 samples in 0.002s...\n",
      "[t-SNE] Computed neighbors for 19 samples in 0.429s...\n",
      "[t-SNE] Computed conditional probabilities for sample 19 / 19\n",
      "[t-SNE] Mean sigma: 0.554654\n",
      "[t-SNE] Computed conditional probabilities in 0.107s\n",
      "[t-SNE] Iteration 50: error = 51.6990738, gradient norm = 0.0876415 (50 iterations in 0.082s)\n",
      "[t-SNE] Iteration 100: error = 54.5526390, gradient norm = 0.0539877 (50 iterations in 0.008s)\n",
      "[t-SNE] Iteration 150: error = 75.9619370, gradient norm = 1.2306985 (50 iterations in 0.009s)\n",
      "[t-SNE] Iteration 200: error = 51.5921059, gradient norm = 0.0241034 (50 iterations in 0.010s)\n",
      "[t-SNE] Iteration 250: error = 67.3897400, gradient norm = 0.0380504 (50 iterations in 0.008s)\n",
      "[t-SNE] KL divergence after 250 iterations with early exaggeration: 67.389740\n",
      "[t-SNE] Iteration 300: error = 1.5612482, gradient norm = 0.0008353 (50 iterations in 0.008s)\n",
      "[t-SNE] Iteration 350: error = 1.2773495, gradient norm = 0.0005301 (50 iterations in 0.006s)\n",
      "[t-SNE] Iteration 400: error = 1.1042147, gradient norm = 0.0003912 (50 iterations in 0.007s)\n",
      "[t-SNE] Iteration 450: error = 0.9574695, gradient norm = 0.0002409 (50 iterations in 0.006s)\n",
      "[t-SNE] Iteration 500: error = 0.8677002, gradient norm = 0.0001977 (50 iterations in 0.006s)\n",
      "[t-SNE] Iteration 550: error = 0.7901009, gradient norm = 0.0001479 (50 iterations in 0.006s)\n",
      "[t-SNE] Iteration 600: error = 0.7633669, gradient norm = 0.0000837 (50 iterations in 0.006s)\n",
      "[t-SNE] Iteration 650: error = 0.7517576, gradient norm = 0.0000632 (50 iterations in 0.006s)\n",
      "[t-SNE] Iteration 700: error = 0.7430848, gradient norm = 0.0000549 (50 iterations in 0.006s)\n",
      "[t-SNE] Iteration 750: error = 0.7321334, gradient norm = 0.0000840 (50 iterations in 0.006s)\n",
      "[t-SNE] Iteration 800: error = 0.7080796, gradient norm = 0.0001016 (50 iterations in 0.006s)\n",
      "[t-SNE] Iteration 850: error = 0.6843960, gradient norm = 0.0001075 (50 iterations in 0.006s)\n",
      "[t-SNE] Iteration 900: error = 0.6282329, gradient norm = 0.0001486 (50 iterations in 0.006s)\n",
      "[t-SNE] Iteration 950: error = 0.5621040, gradient norm = 0.0002560 (50 iterations in 0.006s)\n",
      "[t-SNE] Iteration 1000: error = 0.4709267, gradient norm = 0.0002110 (50 iterations in 0.006s)\n",
      "[t-SNE] KL divergence after 1000 iterations: 0.470927\n"
     ]
    }
   ],
   "source": [
    "vectors = np.asarray([x[1] for x in item_vectors])\n",
    "lengths = np.linalg.norm(vectors, axis=1)\n",
    "import pdb; pdb.set_trace()\n",
    "norm_vectors = (vectors.T / lengths).T\n",
    "\n",
    "tsne = TSNE(n_components=2, perplexity=10, verbose=2).fit_transform(norm_vectors)"
   ]
  },
  {
   "cell_type": "code",
   "execution_count": 32,
   "metadata": {
    "ExecuteTime": {
     "end_time": "2019-07-12T18:51:00.909500Z",
     "start_time": "2019-07-12T18:51:00.638791Z"
    }
   },
   "outputs": [
    {
     "data": {
      "image/png": "[encoded data removed]",
      "text/plain": [
       "<Figure size 720x720 with 1 Axes>"
      ]
     },
     "metadata": {
      "needs_background": "light"
     },
     "output_type": "display_data"
    }
   ],
   "source": [
    "x = tsne[:,0]\n",
    "y = tsne[:,1]\n",
    "from IPython.core.pylabtools import figsize\n",
    "figsize(10,10)\n",
    "fig, ax = plt.subplots()\n",
    "ax.scatter(x, y)\n",
    "for item, x1, y1 in zip(item_vectors, x, y):\n",
    "    ax.annotate(item[0], (x1, y1), clip_on=True)\n",
    "plt.show()"
   ]
  },
  {
   "cell_type": "code",
   "execution_count": null,
   "metadata": {},
   "outputs": [],
   "source": []
  }
 ],
 "metadata": {
  "kernelspec": {
   "display_name": "Python 3",
   "language": "python",
   "name": "python3"
  },
  "language_info": {
   "codemirror_mode": {
    "name": "ipython",
    "version": 3
   },
   "file_extension": ".py",
   "mimetype": "text/x-python",
   "name": "python",
   "nbconvert_exporter": "python",
   "pygments_lexer": "ipython3",
   "version": "3.7.3"
  },
  "toc": {
   "base_numbering": 1,
   "nav_menu": {},
   "number_sections": true,
   "sideBar": true,
   "skip_h1_title": false,
   "title_cell": "Table of Contents",
   "title_sidebar": "Contents",
   "toc_cell": false,
   "toc_position": {},
   "toc_section_display": true,
   "toc_window_display": false
  },
  "varInspector": {
   "cols": {
    "lenName": 16,
    "lenType": 16,
    "lenVar": 40
   },
   "kernels_config": {
    "python": {
     "delete_cmd_postfix": "",
     "delete_cmd_prefix": "del ",
     "library": "var_list.py",
     "varRefreshCmd": "print(var_dic_list())"
    },
    "r": {
     "delete_cmd_postfix": ") ",
     "delete_cmd_prefix": "rm(",
     "library": "var_list.r",
     "varRefreshCmd": "cat(var_dic_list()) "
    }
   },
   "types_to_exclude": [
    "module",
    "function",
    "builtin_function_or_method",
    "instance",
    "_Feature"
   ],
   "window_display": false
  }
 },
 "nbformat": 4,
 "nbformat_minor": 2
}
